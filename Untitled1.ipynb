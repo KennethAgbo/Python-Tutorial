{
 "cells": [
  {
   "cell_type": "code",
   "execution_count": 33,
   "id": "505d0bb1",
   "metadata": {},
   "outputs": [
    {
     "name": "stdout",
     "output_type": "stream",
     "text": [
      "Enter 1 or 2: 5\n",
      "You did not enter the right word\n"
     ]
    }
   ],
   "source": [
    "userInput = int(input(\"Enter 1 or 2: \"))\n",
    "if userInput == 1:\n",
    "    print(\"Hello Nigeria\")\n",
    "    print(\"Happy Independence\")\n",
    "elif userInput == 2:\n",
    "        print(\"oops\")\n",
    "        print(\"You have to wait til 1st October\")\n",
    "else:\n",
    "    print(\"You did not enter the right word\")"
   ]
  },
  {
   "cell_type": "code",
   "execution_count": 27,
   "id": "677df30a",
   "metadata": {},
   "outputs": [
    {
     "name": "stdout",
     "output_type": "stream",
     "text": [
      "Enter the date: 25\n",
      "Enter your gender: male\n",
      "Happy Christmas, Mr Ade\n"
     ]
    }
   ],
   "source": [
    "day = int(input(\"Enter the date: \"))\n",
    "gender = input(\"Enter your gender: \").lower()\n",
    "if (day == 25) and (gender == \"female\"):\n",
    "    print(\"Happy Christmas, Mrs Ade\")\n",
    "elif (day == 25) and (gender == \"male\"):\n",
    "    print(\"Happy Christmas, Mr Ade\")\n",
    "elif (day < 25) and (gender == \"female\"):\n",
    "    print(\"Mrs Ade, you have to wait til 25th\")\n",
    "elif (day < 25) and (gender == \"male\"):\n",
    "    print(\"Mr Ade, you have to wait til 25th\")\n",
    "else:\n",
    "    print(\"oops! Christmas has passed\")"
   ]
  },
  {
   "cell_type": "code",
   "execution_count": 26,
   "id": "e55eb4de",
   "metadata": {},
   "outputs": [
    {
     "name": "stdout",
     "output_type": "stream",
     "text": [
      "ADE\n"
     ]
    }
   ],
   "source": [
    "Name = \"Ade\"\n",
    "y = Name.upper()\n",
    "print(y)"
   ]
  },
  {
   "cell_type": "code",
   "execution_count": 30,
   "id": "5775d3c3",
   "metadata": {},
   "outputs": [
    {
     "name": "stdout",
     "output_type": "stream",
     "text": [
      "Enter date in October: 1\n",
      "Enter your sex: male\n",
      "Hello sir, Happy Independence\n"
     ]
    }
   ],
   "source": [
    "October = int(input(\"Enter date in October: \"))\n",
    "sex = input(\"Enter your sex: \").upper()\n",
    "if October == 1 and sex == \"FEMALE\":\n",
    "    print(\"Hello young lady, Happy Independence\")\n",
    "elif October == 1 and sex == \"MALE\":\n",
    "    print(\"Hello sir, Happy Independence\")\n",
    "elif October < 1 and gender == \"FEMALE\":\n",
    "    print(\"Hello madam, today is not October\")\n",
    "elif October < 1 and gender == \"MALE\":\n",
    "    print(\"Hello sir, today is not October\")\n",
    "else:\n",
    "    print(\"Nigeria independence has passed\")"
   ]
  },
  {
   "cell_type": "code",
   "execution_count": 38,
   "id": "4ed1cb36",
   "metadata": {},
   "outputs": [
    {
     "name": "stdout",
     "output_type": "stream",
     "text": [
      "Enter your age18\n",
      "Do you have pvcyes\n",
      "Enter the pvc year number2010\n",
      "PVC expired, go inside to redo\n"
     ]
    }
   ],
   "source": [
    "age = int(input(\"Enter your age\"))\n",
    "if age >= 18:\n",
    "    pvc= input(\"Do you have pvc\").upper()\n",
    "    if pvc == \"YES\":\n",
    "        pvc_year_no = int(input(\"Enter the pvc year number\"))\n",
    "        if pvc_year_no <= 2010:\n",
    "            print(\"PVC expired, go inside to redo\")\n",
    "        else:\n",
    "            print(\"Please enter inside to cast your vote\")\n",
    "    else:\n",
    "        print(\"Why? Even when you are of age?\")\n",
    "else:\n",
    "    print(\"Minors are not allowed to vote. Wait til when you are 18\")"
   ]
  },
  {
   "cell_type": "code",
   "execution_count": 44,
   "id": "bcee937e",
   "metadata": {},
   "outputs": [
    {
     "name": "stdout",
     "output_type": "stream",
     "text": [
      "Enter your exam grade28\n",
      "F\n"
     ]
    }
   ],
   "source": [
    "exam_score = int(input(\"Enter your exam grade\"))\n",
    "if exam_score >= 70:\n",
    "    print(\"A\")\n",
    "elif exam_score >= 60:\n",
    "    print(\"B\")\n",
    "elif exam_score >= 50:\n",
    "    print(\"C\")\n",
    "elif exam_score >= 40:\n",
    "    print(\"D\")\n",
    "else:\n",
    "    print(\"F\")"
   ]
  },
  {
   "cell_type": "code",
   "execution_count": null,
   "id": "e0e20d54",
   "metadata": {},
   "outputs": [],
   "source": []
  },
  {
   "cell_type": "code",
   "execution_count": null,
   "id": "3fa8f954",
   "metadata": {},
   "outputs": [],
   "source": []
  }
 ],
 "metadata": {
  "kernelspec": {
   "display_name": "Python 3 (ipykernel)",
   "language": "python",
   "name": "python3"
  },
  "language_info": {
   "codemirror_mode": {
    "name": "ipython",
    "version": 3
   },
   "file_extension": ".py",
   "mimetype": "text/x-python",
   "name": "python",
   "nbconvert_exporter": "python",
   "pygments_lexer": "ipython3",
   "version": "3.9.13"
  }
 },
 "nbformat": 4,
 "nbformat_minor": 5
}
